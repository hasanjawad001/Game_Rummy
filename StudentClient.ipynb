{
 "cells": [
  {
   "cell_type": "markdown",
   "metadata": {},
   "source": [
    "# Student Client\n",
    "\n",
    "### Steps to Run with Reinforcement Agent.\n",
    "- 1. Add the RLAgent here\n",
    "- 2. Train the RLAgent/ You can train the RLAgent in some other notebook and store the results using pickle library in python. Then you can test your RLAgent with the server.\n",
    "- 3. Use the policy to run on the server.\n",
    "\n",
    "### DO NOT TRAIN THE MODEL WHILE RUNNING ON THE SERVER! \n"
   ]
  },
  {
   "cell_type": "code",
   "execution_count": 2,
   "metadata": {},
   "outputs": [
    {
     "ename": "ConnectionRefusedError",
     "evalue": "[WinError 10061] No connection could be made because the target machine actively refused it",
     "output_type": "error",
     "traceback": [
      "\u001b[1;31m---------------------------------------------------------------------------\u001b[0m",
      "\u001b[1;31mConnectionRefusedError\u001b[0m                    Traceback (most recent call last)",
      "\u001b[1;32m<ipython-input-2-f43199a5e67f>\u001b[0m in \u001b[0;36m<module>\u001b[1;34m\u001b[0m\n\u001b[0;32m     12\u001b[0m \u001b[0mport\u001b[0m \u001b[1;33m=\u001b[0m \u001b[1;36m9999\u001b[0m\u001b[1;33m\u001b[0m\u001b[1;33m\u001b[0m\u001b[0m\n\u001b[0;32m     13\u001b[0m \u001b[1;33m\u001b[0m\u001b[0m\n\u001b[1;32m---> 14\u001b[1;33m \u001b[0ms\u001b[0m\u001b[1;33m.\u001b[0m\u001b[0mconnect\u001b[0m\u001b[1;33m(\u001b[0m\u001b[1;33m(\u001b[0m\u001b[0mhost\u001b[0m\u001b[1;33m,\u001b[0m \u001b[0mport\u001b[0m\u001b[1;33m)\u001b[0m\u001b[1;33m)\u001b[0m\u001b[1;33m\u001b[0m\u001b[1;33m\u001b[0m\u001b[0m\n\u001b[0m\u001b[0;32m     15\u001b[0m \u001b[1;32mwhile\u001b[0m \u001b[1;32mTrue\u001b[0m\u001b[1;33m:\u001b[0m\u001b[1;33m\u001b[0m\u001b[1;33m\u001b[0m\u001b[0m\n\u001b[0;32m     16\u001b[0m     \u001b[0mdata\u001b[0m \u001b[1;33m=\u001b[0m \u001b[0ms\u001b[0m\u001b[1;33m.\u001b[0m\u001b[0mrecv\u001b[0m\u001b[1;33m(\u001b[0m\u001b[1;36m1024\u001b[0m\u001b[1;33m)\u001b[0m\u001b[1;33m\u001b[0m\u001b[1;33m\u001b[0m\u001b[0m\n",
      "\u001b[1;31mConnectionRefusedError\u001b[0m: [WinError 10061] No connection could be made because the target machine actively refused it"
     ]
    }
   ],
   "source": [
    "import socket\n",
    "import os\n",
    "import subprocess\n",
    "import ast\n",
    "import pdb\n",
    "import numpy as np\n",
    "import time\n",
    "player = 'jawad' #enter unique name for your game\n",
    "s = socket.socket() \n",
    "# s.setsockopt(socket.SOL_SOCKET, socket.SO_REUSEADDR, 1)\n",
    "host = 'localhost' # change ip addres to ip address of your computer or use 'localhost' to practice\n",
    "port = 9999\n",
    "\n",
    "s.connect((host, port))\n",
    "while True:\n",
    "    data = s.recv(1024)\n",
    "    if data.decode(\"utf-8\") == 'send':\n",
    "        s.send(str.encode( player))\n",
    "        client_response = str(s.recv(20480), \"utf-8\")\n",
    "        print(client_response, end=\"\")\n",
    "        break\n",
    "\n",
    "while True:\n",
    "    data = s.recv(20480)\n",
    "    print(data,end=\".\")\n",
    "    if data.decode(\"utf-8\") == f'sendinfo':\n",
    "        s.send(str.encode(\"acknowledged_pick\"))\n",
    "        ##Here you will recieve information about the player such as card rank, card suit, stash score, \n",
    "        client_response = str(s.recv(20480), \"utf-8\")\n",
    "        print(client_response)\n",
    "        action = np.random.randint(0, 2)\n",
    "        print(\"action pick \",action)\n",
    "        s.send(str.encode( str(action)))\n",
    "    if data.decode(\"utf-8\") == f'sendaction_for_card_drop':\n",
    "        s.send(str.encode(\"acknowledged_drop\"))\n",
    "        ro=str(s.recv(20480), \"utf-8\")\n",
    "        ro=ast.literal_eval(ro)\n",
    "        print(\"action send for drop\")\n",
    "        print(ro)\n",
    "        #follow same procedure as abov to send observations to your agent\n",
    "        ###### Look at the above observations and action in variable action#####\n",
    "        action = np.random.randint(0, 3)\n",
    "        s.send(str.encode( str(action)))\n",
    "        print(\"action drop\",action)\n",
    "    if data.decode(\"utf-8\") == 'gameover':\n",
    "        print(\"Game over wait for others to play and wait for results\")\n",
    "        break\n",
    "    if data.decode(\"utf-8\") == 'round_over':\n",
    "        s.send(str.encode(\"acknowledged_round_over\"))\n",
    "        print('Round over')\n",
    "        client_response = str(s.recv(20480), \"utf-8\")\n",
    "        print(client_response, end=\"\")\n",
    "\n",
    "\n",
    "    "
   ]
  },
  {
   "cell_type": "code",
   "execution_count": null,
   "metadata": {},
   "outputs": [],
   "source": []
  }
 ],
 "metadata": {
  "anaconda-cloud": {},
  "kernelspec": {
   "display_name": "Python 3",
   "language": "python",
   "name": "python3"
  },
  "language_info": {
   "codemirror_mode": {
    "name": "ipython",
    "version": 3
   },
   "file_extension": ".py",
   "mimetype": "text/x-python",
   "name": "python",
   "nbconvert_exporter": "python",
   "pygments_lexer": "ipython3",
   "version": "3.7.3"
  }
 },
 "nbformat": 4,
 "nbformat_minor": 4
}
